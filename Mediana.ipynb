{
  "nbformat": 4,
  "nbformat_minor": 0,
  "metadata": {
    "colab": {
      "provenance": []
    },
    "kernelspec": {
      "name": "python3",
      "display_name": "Python 3"
    },
    "language_info": {
      "name": "python"
    }
  },
  "cells": [
    {
      "cell_type": "code",
      "source": [
        "from pyspark.sql import SparkSession\n",
        "from pyspark.sql.functions import col, expr, mean, corr"
      ],
      "metadata": {
        "id": "7sUJiAAZ9IN1"
      },
      "execution_count": null,
      "outputs": []
    },
    {
      "cell_type": "code",
      "source": [
        "spark = SparkSession.builder.appName(\"Mediana\").getOrCreate()"
      ],
      "metadata": {
        "id": "ulaXkmLb9J2K"
      },
      "execution_count": null,
      "outputs": []
    },
    {
      "cell_type": "code",
      "source": [
        "df_salud = spark.read.csv(\"Pacientes-Hoja1.csv\", header=True, inferSchema=True)"
      ],
      "metadata": {
        "id": "kIyFmj_b9Ldi"
      },
      "execution_count": null,
      "outputs": []
    },
    {
      "cell_type": "code",
      "source": [
        "var_mediana = df_salud.approxQuantile(\"Edad\", [0.5], 0.0)"
      ],
      "metadata": {
        "id": "rCOjrLO59M6P"
      },
      "execution_count": null,
      "outputs": []
    },
    {
      "cell_type": "code",
      "source": [
        "print (\"La mediana de edad de todos los pacientes es: \", var_mediana)"
      ],
      "metadata": {
        "colab": {
          "base_uri": "https://localhost:8080/"
        },
        "id": "S4P6QQ2BBdCs",
        "outputId": "88cd2c6f-73fb-4c97-df0b-909728d625ab"
      },
      "execution_count": null,
      "outputs": [
        {
          "output_type": "stream",
          "name": "stdout",
          "text": [
            "La mediana de edad de todos los pacientes es:  [50.0]\n"
          ]
        }
      ]
    }
  ]
}