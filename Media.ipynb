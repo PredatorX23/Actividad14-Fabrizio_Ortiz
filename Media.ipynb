{
  "nbformat": 4,
  "nbformat_minor": 0,
  "metadata": {
    "colab": {
      "provenance": []
    },
    "kernelspec": {
      "name": "python3",
      "display_name": "Python 3"
    },
    "language_info": {
      "name": "python"
    }
  },
  "cells": [
    {
      "cell_type": "code",
      "execution_count": 1,
      "metadata": {
        "id": "mZQ_prQA3nno"
      },
      "outputs": [],
      "source": [
        "from pyspark.sql import SparkSession\n",
        "from pyspark.sql.functions import col, expr, mean, corr"
      ]
    },
    {
      "cell_type": "code",
      "source": [
        "spark = SparkSession.builder.appName(\"Media\").getOrCreate()"
      ],
      "metadata": {
        "id": "NkFfydjn5Q56"
      },
      "execution_count": 2,
      "outputs": []
    },
    {
      "cell_type": "code",
      "source": [
        "df_salud = spark.read.csv(\"Pacientes-Hoja1.csv\", header=True, inferSchema=True)"
      ],
      "metadata": {
        "id": "Dlhmme9w5T-E"
      },
      "execution_count": 5,
      "outputs": []
    },
    {
      "cell_type": "code",
      "source": [
        "correlacion = df_salud.select(mean(col(\"Edad\").alias(\"Media de Edades de los pacientes con diabetes\"))).show()"
      ],
      "metadata": {
        "colab": {
          "base_uri": "https://localhost:8080/"
        },
        "id": "YQqhI1Ie6nKX",
        "outputId": "96c8ae69-3624-484d-e903-872f77cd78a5"
      },
      "execution_count": 7,
      "outputs": [
        {
          "output_type": "stream",
          "name": "stdout",
          "text": [
            "+------------------------------------------------------------+\n",
            "|avg(Edad AS `Media de Edades de los pacientes con diabetes`)|\n",
            "+------------------------------------------------------------+\n",
            "|                                           49.77777777777778|\n",
            "+------------------------------------------------------------+\n",
            "\n"
          ]
        }
      ]
    }
  ]
}