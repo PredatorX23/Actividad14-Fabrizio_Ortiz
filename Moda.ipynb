{
  "nbformat": 4,
  "nbformat_minor": 0,
  "metadata": {
    "colab": {
      "provenance": []
    },
    "kernelspec": {
      "name": "python3",
      "display_name": "Python 3"
    },
    "language_info": {
      "name": "python"
    }
  },
  "cells": [
    {
      "cell_type": "code",
      "execution_count": 2,
      "metadata": {
        "id": "oyiVgK3gCoe5"
      },
      "outputs": [],
      "source": [
        "from pyspark.sql import SparkSession\n",
        "from pyspark.sql.functions import col, expr, mean, corr"
      ]
    },
    {
      "cell_type": "code",
      "source": [
        "spark = SparkSession.builder.appName(\"Moda\").getOrCreate()"
      ],
      "metadata": {
        "id": "qoAnpb9WCt9f"
      },
      "execution_count": 3,
      "outputs": []
    },
    {
      "cell_type": "code",
      "source": [
        "df_salud = spark.read.csv(\"Pacientes-Hoja1.csv\", header=True, inferSchema=True)"
      ],
      "metadata": {
        "id": "IiUGhsOECvZa"
      },
      "execution_count": 5,
      "outputs": []
    },
    {
      "cell_type": "code",
      "source": [
        "moda_sintomas = df_salud.groupBy(\"Sintoma\").count().orderBy(col(\"count\").desc()).first()"
      ],
      "metadata": {
        "id": "cgq5yGkoC3DB"
      },
      "execution_count": 6,
      "outputs": []
    },
    {
      "cell_type": "code",
      "source": [
        "print (\"El síntoma mas comun de los pacientes es: \", moda_sintomas[\"Sintoma\"])"
      ],
      "metadata": {
        "colab": {
          "base_uri": "https://localhost:8080/"
        },
        "id": "3FMaTKNNElFD",
        "outputId": "5696d88c-9692-456b-fa8a-e0856ae08d76"
      },
      "execution_count": 8,
      "outputs": [
        {
          "output_type": "stream",
          "name": "stdout",
          "text": [
            "El síntoma mas comun de los pacientes es:  Visi�n borrosa\n"
          ]
        }
      ]
    }
  ]
}