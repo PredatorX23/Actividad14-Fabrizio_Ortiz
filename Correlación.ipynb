{
  "nbformat": 4,
  "nbformat_minor": 0,
  "metadata": {
    "colab": {
      "provenance": []
    },
    "kernelspec": {
      "name": "python3",
      "display_name": "Python 3"
    },
    "language_info": {
      "name": "python"
    }
  },
  "cells": [
    {
      "cell_type": "code",
      "execution_count": 19,
      "metadata": {
        "id": "dNnyUQYdw0Es"
      },
      "outputs": [],
      "source": [
        "from pyspark.sql import SparkSession\n",
        "from pyspark.sql.functions import col, expr, mean, corr"
      ]
    },
    {
      "cell_type": "code",
      "source": [
        "spark = SparkSession.builder.appName(\"Correlacion\").getOrCreate()"
      ],
      "metadata": {
        "id": "AWE5BmwAw4A7"
      },
      "execution_count": 20,
      "outputs": []
    },
    {
      "cell_type": "code",
      "source": [
        "df_salud = spark.read.csv(\"Pacientes-Hoja1.csv\", header=True, inferSchema=True)"
      ],
      "metadata": {
        "id": "sMdH85_-w_Wb"
      },
      "execution_count": 21,
      "outputs": []
    },
    {
      "cell_type": "code",
      "source": [
        "correlacion = df_salud.select(corr(col(\"colesterol\"), col(\"presion\"))).collect()[0][0]"
      ],
      "metadata": {
        "id": "ww7DCsYKxUi7"
      },
      "execution_count": 22,
      "outputs": []
    },
    {
      "cell_type": "code",
      "source": [
        "print(\"Correlación entre colesterol y presión arterial:\", correlacion)"
      ],
      "metadata": {
        "colab": {
          "base_uri": "https://localhost:8080/"
        },
        "id": "4ukgkEmuxXc8",
        "outputId": "d07b4417-713c-4c08-ffa7-1942697683ae"
      },
      "execution_count": 23,
      "outputs": [
        {
          "output_type": "stream",
          "name": "stdout",
          "text": [
            "Correlación entre colesterol y presión arterial: 0.7112901406954519\n"
          ]
        }
      ]
    }
  ]
}